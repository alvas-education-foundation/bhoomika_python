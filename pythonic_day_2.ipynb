{
  "nbformat": 4,
  "nbformat_minor": 0,
  "metadata": {
    "colab": {
      "name": "pythonic day-2",
      "provenance": [],
      "collapsed_sections": [
        "DdOHzbFdk21d"
      ],
      "authorship_tag": "ABX9TyPcQjxBDoq9hpDjSalW35CI",
      "include_colab_link": true
    },
    "kernelspec": {
      "name": "python3",
      "display_name": "Python 3"
    }
  },
  "cells": [
    {
      "cell_type": "markdown",
      "metadata": {
        "id": "view-in-github",
        "colab_type": "text"
      },
      "source": [
        "<a href=\"https://colab.research.google.com/github/alvas-education-foundation/bhoomika_python/blob/master/pythonic_day_2.ipynb\" target=\"_parent\"><img src=\"https://colab.research.google.com/assets/colab-badge.svg\" alt=\"Open In Colab\"/></a>"
      ]
    },
    {
      "cell_type": "code",
      "metadata": {
        "id": "QANrW6zuMEOh",
        "colab_type": "code",
        "colab": {
          "base_uri": "https://localhost:8080/",
          "height": 84
        },
        "outputId": "457651f7-39dc-4ffd-f379-4f6b7ff83911"
      },
      "source": [
        "#Program to find the largest number in a list.\n",
        "a=[]\n",
        "n=int(input(\"Enter number of elements:\"))\n",
        "for i in range(1,n+1):\n",
        "    b=int(input(\"Enter element:\"))\n",
        "    a.append(b)\n",
        "a.sort()\n",
        "print(\"Largest element is:\",a[n-1])\n"
      ],
      "execution_count": null,
      "outputs": [
        {
          "output_type": "stream",
          "text": [
            "Enter number of elements:2\n",
            "Enter element:6\n",
            "Enter element:8\n",
            "Largest element is: 8\n"
          ],
          "name": "stdout"
        }
      ]
    },
    {
      "cell_type": "code",
      "metadata": {
        "id": "eBqLAgey0b2x",
        "colab_type": "code",
        "colab": {}
      },
      "source": [
        ""
      ],
      "execution_count": null,
      "outputs": []
    },
    {
      "cell_type": "code",
      "metadata": {
        "id": "6YC1bVOvMJeR",
        "colab_type": "code",
        "colab": {
          "base_uri": "https://localhost:8080/",
          "height": 101
        },
        "outputId": "8853316b-77e6-4b8d-bd7c-855dfdc7db54"
      },
      "source": [
        "#Python Program to put the even and odd elements in a list into two different lists. \n",
        "a=[]\n",
        "n=int(input(\"Enter number of elements:\"))\n",
        "for i in range(1,n+1):\n",
        "    b=int(input(\"Enter element:\"))\n",
        "    a.append(b)\n",
        "even=[]\n",
        "odd=[]\n",
        "for j in a:\n",
        "    if(j%2==0):\n",
        "        even.append(j)\n",
        "    else:\n",
        "        odd.append(j)\n",
        "print(\"The even list\",even)\n",
        "print(\"The odd list\",odd)\n"
      ],
      "execution_count": null,
      "outputs": [
        {
          "output_type": "stream",
          "text": [
            "Enter number of elements:2\n",
            "Enter element:4\n",
            "Enter element:5\n",
            "The even list [4]\n",
            "The odd list [5]\n"
          ],
          "name": "stdout"
        }
      ]
    },
    {
      "cell_type": "code",
      "metadata": {
        "id": "aWtKS4yHMJiY",
        "colab_type": "code",
        "colab": {
          "base_uri": "https://localhost:8080/",
          "height": 134
        },
        "outputId": "042106ab-4cbc-4755-c69a-48ebf0ef9078"
      },
      "source": [
        "#Python Program to merge two lists and sort it.\n",
        "a=[]\n",
        "c=[]\n",
        "n1=int(input(\"Enter number of elements:\"))\n",
        "for i in range(1,n1+1):\n",
        "    b=int(input(\"Enter element:\"))\n",
        "    a.append(b)\n",
        "n2=int(input(\"Enter number of elements:\"))\n",
        "for i in range(1,n2+1):\n",
        "    d=int(input(\"Enter element:\"))\n",
        "    c.append(d)\n",
        "new=a+c\n",
        "new.sort()\n",
        "print(\"Sorted list is:\",new)\n"
      ],
      "execution_count": null,
      "outputs": [
        {
          "output_type": "stream",
          "text": [
            "Enter number of elements:2\n",
            "Enter element:55\n",
            "Enter element:45\n",
            "Enter number of elements:2\n",
            "Enter element:33\n",
            "Enter element:99\n",
            "Sorted list is: [33, 45, 55, 99]\n"
          ],
          "name": "stdout"
        }
      ]
    },
    {
      "cell_type": "code",
      "metadata": {
        "id": "sCyLSO0bMJlk",
        "colab_type": "code",
        "colab": {
          "base_uri": "https://localhost:8080/",
          "height": 34
        },
        "outputId": "d2b13e37-d23b-439a-eba7-95b523ce988f"
      },
      "source": [
        "#Python Program to sort the list according to the second element in the sublist.\n",
        "a=[['A',34],['B',21],['C',26],['E',29]]\n",
        "for i in range(0,len(a)):\n",
        "    for j in range(i+1,len(a)):\n",
        "        if(a[i][1]>a[j][1]):\n",
        "            temp=a[j]\n",
        "            a[j]=a[i]\n",
        "            a[i]=temp\n",
        "print(a)\n"
      ],
      "execution_count": null,
      "outputs": [
        {
          "output_type": "stream",
          "text": [
            "[['B', 21], ['C', 26], ['E', 29], ['A', 34]]\n"
          ],
          "name": "stdout"
        }
      ]
    },
    {
      "cell_type": "code",
      "metadata": {
        "id": "DVgIIJEvMJsi",
        "colab_type": "code",
        "colab": {
          "base_uri": "https://localhost:8080/",
          "height": 84
        },
        "outputId": "7925033f-cfa7-4662-c1b7-3a553d7b51ea"
      },
      "source": [
        "#Python Program to find the second largest number in a list \n",
        "a=[]\n",
        "n=int(input(\"Enter number of elements:\"))\n",
        "for i in range(1,n+1):\n",
        "    b=int(input(\"Enter element:\"))\n",
        "    a.append(b)\n",
        "for i in range(0,len(a)):\n",
        "    for j in range(0,len(a)-i-1):\n",
        "        if(a[j]>a[j+1]):\n",
        "            temp=a[j]\n",
        "            a[j]=a[j+1]\n",
        "            a[j+1]=temp \n",
        "print('Second largest number is:',a[n-2])\n"
      ],
      "execution_count": null,
      "outputs": [
        {
          "output_type": "stream",
          "text": [
            "Enter number of elements:2\n",
            "Enter element:2\n",
            "Enter element:6\n",
            "Second largest number is: 2\n"
          ],
          "name": "stdout"
        }
      ]
    },
    {
      "cell_type": "code",
      "metadata": {
        "id": "k-rK3i8qMJvr",
        "colab_type": "code",
        "colab": {
          "base_uri": "https://localhost:8080/",
          "height": 67
        },
        "outputId": "91a08ac9-5e22-498b-af35-bf1395feb51a"
      },
      "source": [
        "#Program to create a list of tuples with the first element as the number and the second element as the square of the number. \n",
        "l_range=int(input(\"Enter the lower range:\"))\n",
        "u_range=int(input(\"Enter the upper range:\"))\n",
        "a=[(x,x**2) for x in range(l_range,u_range+1)]\n",
        "print(a)\n"
      ],
      "execution_count": null,
      "outputs": [
        {
          "output_type": "stream",
          "text": [
            "Enter the lower range:4\n",
            "Enter the upper range:8\n",
            "[(4, 16), (5, 25), (6, 36), (7, 49), (8, 64)]\n"
          ],
          "name": "stdout"
        }
      ]
    },
    {
      "cell_type": "code",
      "metadata": {
        "id": "6B3PFxUIMJ15",
        "colab_type": "code",
        "colab": {
          "base_uri": "https://localhost:8080/",
          "height": 50
        },
        "outputId": "90d26257-3102-474f-bb5d-43d84416bac4"
      },
      "source": [
        "#Python Program to generate random numbers from 1 to 20 and append them to the list.\n",
        "\n",
        "import random\n",
        "a=[]\n",
        "n=int(input(\"Enter number of elements:\"))\n",
        "for j in range(n):\n",
        "    a.append(random.randint(1,20))\n",
        "print('Randomised list is: ',a)\n",
        "\n"
      ],
      "execution_count": null,
      "outputs": [
        {
          "output_type": "stream",
          "text": [
            "Enter number of elements:2\n",
            "Randomised list is:  [18, 13]\n"
          ],
          "name": "stdout"
        }
      ]
    },
    {
      "cell_type": "code",
      "metadata": {
        "id": "lCZVolmxMJ-B",
        "colab_type": "code",
        "colab": {
          "base_uri": "https://localhost:8080/",
          "height": 34
        },
        "outputId": "bf3964e9-276e-410d-df1a-e85f2523a50b"
      },
      "source": [
        "def countMultiples(n): \n",
        "    res = 0; \n",
        "    for i in range(1, n + 1): \n",
        "        if (i % 3 == 0 or i % 7 == 0): \n",
        "            res += 1; \n",
        "   \n",
        "    return res; \n",
        "  \n",
        "# Driver code \n",
        "print(\"Count =\", countMultiples(25)); \n",
        "  "
      ],
      "execution_count": null,
      "outputs": [
        {
          "output_type": "stream",
          "text": [
            "Count = 10\n"
          ],
          "name": "stdout"
        }
      ]
    },
    {
      "cell_type": "code",
      "metadata": {
        "id": "5kZHP_m0MKA1",
        "colab_type": "code",
        "colab": {
          "base_uri": "https://localhost:8080/",
          "height": 34
        },
        "outputId": "18fca0bb-50f4-4141-b315-94c29561103c"
      },
      "source": [
        "nl=[]\n",
        "for x in range(1500, 2701):\n",
        "    if (x%7==0) and (x%5==0):\n",
        "        nl.append(str(x))\n",
        "print (','.join(nl))\n"
      ],
      "execution_count": null,
      "outputs": [
        {
          "output_type": "stream",
          "text": [
            "1505,1540,1575,1610,1645,1680,1715,1750,1785,1820,1855,1890,1925,1960,1995,2030,2065,2100,2135,2170,2205,2240,2275,2310,2345,2380,2415,2450,2485,2520,2555,2590,2625,2660,2695\n"
          ],
          "name": "stdout"
        }
      ]
    },
    {
      "cell_type": "code",
      "metadata": {
        "id": "MO5ynWVNMKGY",
        "colab_type": "code",
        "colab": {
          "base_uri": "https://localhost:8080/",
          "height": 168
        },
        "outputId": "5f0b9579-5d1c-4f54-fcbf-abc9210664c0"
      },
      "source": [
        "# Program to sort alphabetically the words form a string provided by the user\n",
        "\n",
        "my_str = \"Hello this Is an Example With cased letters\"\n",
        "\n",
        "# To take input from the user\n",
        "#my_str = input(\"Enter a string: \")\n",
        "\n",
        "# breakdown the string into a list of words\n",
        "words = my_str.split()\n",
        "\n",
        "# sort the list\n",
        "words.sort()\n",
        "\n",
        "# display the sorted words\n",
        "\n",
        "print(\"The sorted words are:\")\n",
        "for word in words:\n",
        "   print(word)"
      ],
      "execution_count": null,
      "outputs": [
        {
          "output_type": "stream",
          "text": [
            "The sorted words are:\n",
            "Example\n",
            "Hello\n",
            "Is\n",
            "With\n",
            "an\n",
            "cased\n",
            "letters\n",
            "this\n"
          ],
          "name": "stdout"
        }
      ]
    },
    {
      "cell_type": "code",
      "metadata": {
        "id": "IIOU10pgMKIm",
        "colab_type": "code",
        "colab": {
          "base_uri": "https://localhost:8080/",
          "height": 34
        },
        "outputId": "80932e6a-14dd-408f-e2b5-d7761194d83a"
      },
      "source": [
        "# Python3 implementation of the approach \n",
        "  \n",
        "# Function to print all the perfect \n",
        "# squares from the given range \n",
        "def perfectSquares(l, r): \n",
        "  \n",
        "    # For every element from the range \n",
        "    for i in range(l, r + 1): \n",
        "  \n",
        "        # If current element is \n",
        "        # a perfect square \n",
        "        if (i**(.5) == int(i**(.5))): \n",
        "            print(i, end=\" \") \n",
        "  \n",
        "# Driver code \n",
        "l = 2\n",
        "r = 24\n",
        "  \n",
        "perfectSquares(l, r) "
      ],
      "execution_count": null,
      "outputs": [
        {
          "output_type": "stream",
          "text": [
            "4 9 16 "
          ],
          "name": "stdout"
        }
      ]
    },
    {
      "cell_type": "code",
      "metadata": {
        "id": "Qvqqu9udMKLG",
        "colab_type": "code",
        "colab": {
          "base_uri": "https://localhost:8080/",
          "height": 34
        },
        "outputId": "666c5f21-2b2c-48ef-f05d-a471db785b19"
      },
      "source": [
        "# Python program to get average of a list \n",
        "# Using reduce() and lambda  \n",
        "  \n",
        "# importing reduce() \n",
        "from functools import reduce\n",
        "  \n",
        "def Average(lst): \n",
        "    return reduce(lambda a, b: a + b, lst) / len(lst) \n",
        "  \n",
        "# Driver Code \n",
        "lst = [15, 9, 55, 41, 35, 20, 62, 49] \n",
        "average = Average(lst) \n",
        "  \n",
        "# Printing average of the list \n",
        "print(\"Average of the list =\", round(average, 2)) "
      ],
      "execution_count": null,
      "outputs": [
        {
          "output_type": "stream",
          "text": [
            "Average of the list = 35.75\n"
          ],
          "name": "stdout"
        }
      ]
    },
    {
      "cell_type": "code",
      "metadata": {
        "id": "HAGmEImzMKNk",
        "colab_type": "code",
        "colab": {
          "base_uri": "https://localhost:8080/",
          "height": 34
        },
        "outputId": "bc1f0472-6606-4980-83a8-186b08cafb7e"
      },
      "source": [
        "# Python program to print odd Numbers in a List \n",
        "  \n",
        "# list of numbers \n",
        "list1 = [10, 21, 4, 45, 66, 93] \n",
        "  \n",
        "# iterating each number in list \n",
        "for num in list1: \n",
        "      \n",
        "    # checking condition \n",
        "    if num % 2 != 0: \n",
        "       print(num, end = \" \") "
      ],
      "execution_count": null,
      "outputs": [
        {
          "output_type": "stream",
          "text": [
            "21 45 93 "
          ],
          "name": "stdout"
        }
      ]
    },
    {
      "cell_type": "code",
      "metadata": {
        "id": "AmMQqmQFMKQK",
        "colab_type": "code",
        "colab": {
          "base_uri": "https://localhost:8080/",
          "height": 34
        },
        "outputId": "baaf99cf-f0af-4221-cd2b-f09048ad1089"
      },
      "source": [
        "# Python program to print Even Numbers in a List \n",
        "  \n",
        "# list of numbers \n",
        "list1 = [10, 21, 4, 45, 66, 93] \n",
        "  \n",
        "# iterating each number in list \n",
        "for num in list1: \n",
        "      \n",
        "    # checking condition \n",
        "    if num % 2 == 0: \n",
        "       print(num, end = \" \") "
      ],
      "execution_count": null,
      "outputs": [
        {
          "output_type": "stream",
          "text": [
            "10 4 66 "
          ],
          "name": "stdout"
        }
      ]
    },
    {
      "cell_type": "code",
      "metadata": {
        "id": "vl7p-3jGMKSz",
        "colab_type": "code",
        "colab": {
          "base_uri": "https://localhost:8080/",
          "height": 34
        },
        "outputId": "43ed5118-23dd-4406-f7ed-d8aa75ec7f23"
      },
      "source": [
        "#Write python program to have a list of words  to sort them from longest to shortest using list of tuples\n",
        " \n",
        "txt = 'but soft what light in yonder window breaks'\n",
        "words = txt.split()\n",
        "t = list()\n",
        "for word in words:\n",
        "   t.append((len(word), word))\n",
        "t.sort(reverse=True)\n",
        "\n",
        "res = list()\n",
        "for length, word in t:\n",
        "    res.append(word)\n",
        "\n",
        "print(res)\n"
      ],
      "execution_count": null,
      "outputs": [
        {
          "output_type": "stream",
          "text": [
            "['yonder', 'window', 'breaks', 'light', 'what', 'soft', 'but', 'in']\n"
          ],
          "name": "stdout"
        }
      ]
    },
    {
      "cell_type": "code",
      "metadata": {
        "id": "aNtJ5zwSRFre",
        "colab_type": "code",
        "colab": {
          "base_uri": "https://localhost:8080/",
          "height": 50
        },
        "outputId": "61306e97-79c0-4ced-b945-d98c532f7a26"
      },
      "source": [
        "\n",
        "#Python program that assigns variables\n",
        "\n",
        "# Create packed tuple.\n",
        "pair = (\"dog\", \"cat\")\n",
        "\n",
        "# Unpack tuple.\n",
        "(key, value) = pair\n",
        "\n",
        "# Display unpacked variables.\n",
        "print(key)\n",
        "print(value)\n"
      ],
      "execution_count": null,
      "outputs": [
        {
          "output_type": "stream",
          "text": [
            "dog\n",
            "cat\n"
          ],
          "name": "stdout"
        }
      ]
    },
    {
      "cell_type": "code",
      "metadata": {
        "id": "BvW3SzC1RFub",
        "colab_type": "code",
        "colab": {
          "base_uri": "https://localhost:8080/",
          "height": 50
        },
        "outputId": "7a336d14-53fd-47a0-9565-911228777cc3"
      },
      "source": [
        "\n",
        "#Python program that searches tuples\n",
        "pair = (\"dog\", \"cat\")\n",
        "\n",
        "# Search for a value.\n",
        "if \"cat\" in pair:\n",
        "    print(\"Cat found\")\n",
        "\n",
        "# Search for a value not present.\n",
        "if \"bird\" not in pair:\n",
        "    print(\"Bird not found\")\n"
      ],
      "execution_count": null,
      "outputs": [
        {
          "output_type": "stream",
          "text": [
            "Cat found\n",
            "Bird not found\n"
          ],
          "name": "stdout"
        }
      ]
    },
    {
      "cell_type": "code",
      "metadata": {
        "id": "YEhH4jhURc7V",
        "colab_type": "code",
        "colab": {
          "base_uri": "https://localhost:8080/",
          "height": 67
        },
        "outputId": "df69f05f-5d7b-4223-9b9d-d3581666b654"
      },
      "source": [
        "l_range=int(input(\"Enter the lower range:\"))\n",
        "u_range=int(input(\"Enter the upper range:\"))\n",
        "a=[(x,x**2) for x in range(l_range,u_range+1)]\n",
        "print(a)#Python Program to Create a List of Tuples with the First Element as the Number and Second Element as the Square of the Number "
      ],
      "execution_count": null,
      "outputs": [
        {
          "output_type": "stream",
          "text": [
            "Enter the lower range:2\n",
            "Enter the upper range:5\n",
            "[(2, 4), (3, 9), (4, 16), (5, 25)]\n"
          ],
          "name": "stdout"
        }
      ]
    },
    {
      "cell_type": "code",
      "metadata": {
        "id": "L_EVJQywRc-U",
        "colab_type": "code",
        "colab": {
          "base_uri": "https://localhost:8080/",
          "height": 34
        },
        "outputId": "9daf4993-1c2a-4c9b-b362-7dafda744bd0"
      },
      "source": [
        "\n",
        "# Python program to sort a list of tuples by the second Item \n",
        "  \n",
        "# Function to sort the list of tuples by its second item \n",
        "def Sort_Tuple(tup):  \n",
        "      \n",
        "    # getting length of list of tuples \n",
        "    lst = len(tup)  \n",
        "    for i in range(0, lst):  \n",
        "          \n",
        "        for j in range(0, lst-i-1):  \n",
        "            if (tup[j][1] > tup[j + 1][1]):  \n",
        "                temp = tup[j]  \n",
        "                tup[j]= tup[j + 1]  \n",
        "                tup[j + 1]= temp  \n",
        "    return tup  \n",
        "  \n",
        "# Driver Code  \n",
        "tup =[('for', 24), ('is', 10), ('Geeks', 28),  \n",
        "      ('bhoomika', 5), ('portal', 20), ('a', 15)]  \n",
        "        \n",
        "print(Sort_Tuple(tup))  "
      ],
      "execution_count": null,
      "outputs": [
        {
          "output_type": "stream",
          "text": [
            "[('bhoomika', 5), ('is', 10), ('a', 15), ('portal', 20), ('for', 24), ('Geeks', 28)]\n"
          ],
          "name": "stdout"
        }
      ]
    },
    {
      "cell_type": "code",
      "metadata": {
        "id": "pfN-wbFxRdG3",
        "colab_type": "code",
        "colab": {
          "base_uri": "https://localhost:8080/",
          "height": 34
        },
        "outputId": "bfebfd76-2672-4f40-fb38-191eb9f5bb85"
      },
      "source": [
        "from collections import defaultdict\n",
        "classes = (\n",
        "    ('V', 1),\n",
        "    ('VI', 1),\n",
        "    ('V', 2),\n",
        "    ('VI', 2),\n",
        "    ('VI', 3),\n",
        "    ('VII', 1),\n",
        ")\n",
        "\n",
        "class_rollno = defaultdict(list)\n",
        "\n",
        "for class_name, roll_id in classes:\n",
        "    class_rollno[class_name].append(roll_id)\n",
        "\n",
        "print(class_rollno)"
      ],
      "execution_count": null,
      "outputs": [
        {
          "output_type": "stream",
          "text": [
            "defaultdict(<class 'list'>, {'V': [1, 2], 'VI': [1, 2, 3], 'VII': [1]})\n"
          ],
          "name": "stdout"
        }
      ]
    },
    {
      "cell_type": "code",
      "metadata": {
        "id": "FKY8ExdnRdM2",
        "colab_type": "code",
        "colab": {
          "base_uri": "https://localhost:8080/",
          "height": 67
        },
        "outputId": "346d20f4-af27-4937-cca2-385494579189"
      },
      "source": [
        "def last(n):\n",
        "    return n[-1]  \n",
        " \n",
        "def sort(tuples):\n",
        "    return sorted(tuples, key=last)\n",
        " \n",
        "a=input(\"Enter a list of tuples:\")\n",
        "print(\"Sorted:\")\n",
        "print(sort(a))"
      ],
      "execution_count": null,
      "outputs": [
        {
          "output_type": "stream",
          "text": [
            "Enter a list of tuples:2\n",
            "Sorted:\n",
            "['2']\n"
          ],
          "name": "stdout"
        }
      ]
    },
    {
      "cell_type": "code",
      "metadata": {
        "id": "goqXPQpYRdPl",
        "colab_type": "code",
        "colab": {
          "base_uri": "https://localhost:8080/",
          "height": 34
        },
        "outputId": "d7912778-743f-40ca-c2c3-7233754dbb6a"
      },
      "source": [
        "# Python program to sort a list of \n",
        "# tuples by the second Item using sort()  \n",
        "  \n",
        "# Function to sort hte list by second item of tuple \n",
        "def Sort_Tuple(tup):  \n",
        "  \n",
        "    # reverse = None (Sorts in Ascending order)  \n",
        "    # key is set to sort using second element of  \n",
        "    # sublist lambda has been used  \n",
        "    tup.sort(key = lambda x: x[1])  \n",
        "    return tup  \n",
        "  \n",
        "# Driver Code  \n",
        "tup = [('rishav', 10), ('akash', 5), ('ram', 20), ('gaurav', 15)]  \n",
        "  \n",
        "# printing the sorted list of tuples \n",
        "print(Sort_Tuple(tup))  "
      ],
      "execution_count": null,
      "outputs": [
        {
          "output_type": "stream",
          "text": [
            "[('akash', 5), ('rishav', 10), ('gaurav', 15), ('ram', 20)]\n"
          ],
          "name": "stdout"
        }
      ]
    },
    {
      "cell_type": "code",
      "metadata": {
        "id": "UgewDAJkRdSP",
        "colab_type": "code",
        "colab": {
          "base_uri": "https://localhost:8080/",
          "height": 34
        },
        "outputId": "ac693eef-4cb4-47c2-e6fc-c0b10678032b"
      },
      "source": [
        "# Python program to sort a list of \n",
        "# tuples by the second Item using sorted()  \n",
        "  \n",
        "# Function to sort the list by second item of tuple \n",
        "def Sort_Tuple(tup):  \n",
        "  \n",
        "    # reverse = None (Sorts in Ascending order)  \n",
        "    # key is set to sort using second element of  \n",
        "    # sublist lambda has been used  \n",
        "    return(sorted(tup, key = lambda x: x[1]))   \n",
        "  \n",
        "# Driver Code  \n",
        "tup = [('rishav', 10), ('akash', 5), ('ram', 20), ('gaurav', 15)]  \n",
        "  \n",
        "# printing the sorted list of tuples \n",
        "print(Sort_Tuple(tup)) "
      ],
      "execution_count": null,
      "outputs": [
        {
          "output_type": "stream",
          "text": [
            "[('akash', 5), ('rishav', 10), ('gaurav', 15), ('ram', 20)]\n"
          ],
          "name": "stdout"
        }
      ]
    },
    {
      "cell_type": "code",
      "metadata": {
        "id": "7Xwvowg2RdUv",
        "colab_type": "code",
        "colab": {
          "base_uri": "https://localhost:8080/",
          "height": 50
        },
        "outputId": "a0ba640d-5a2c-4b80-838b-ef6a95e9ffc5"
      },
      "source": [
        "\n",
        "#dict.clear()\n",
        "#Removes all elements of dictionary dict\n",
        "\n",
        "dict = {'Name': 'Zara', 'Age': 7};\n",
        "print(\"Start Len : %d\" %  len(dict))\n",
        "dict.clear()\n",
        "print(\"End Len : %d\" %  len(dict))\n",
        "\n"
      ],
      "execution_count": null,
      "outputs": [
        {
          "output_type": "stream",
          "text": [
            "Start Len : 2\n",
            "End Len : 0\n"
          ],
          "name": "stdout"
        }
      ]
    },
    {
      "cell_type": "code",
      "metadata": {
        "id": "d201M3wSRdXj",
        "colab_type": "code",
        "colab": {
          "base_uri": "https://localhost:8080/",
          "height": 34
        },
        "outputId": "9f91b906-59f9-4e8d-9e77-792a548a5181"
      },
      "source": [
        "#dict.items()\n",
        "#Returns a list of dict's (key, value) tuple pairs\n",
        "\n",
        "dict = {'Name': 'Zara', 'Age': 7}\n",
        "print (\"Value : %s\" %  dict.items())\n"
      ],
      "execution_count": null,
      "outputs": [
        {
          "output_type": "stream",
          "text": [
            "Value : dict_items([('Name', 'Zara'), ('Age', 7)])\n"
          ],
          "name": "stdout"
        }
      ]
    },
    {
      "cell_type": "code",
      "metadata": {
        "id": "vv6JCZKyUUBs",
        "colab_type": "code",
        "colab": {
          "base_uri": "https://localhost:8080/",
          "height": 34
        },
        "outputId": "e01e069a-9c6d-4210-bb0d-204f179881e3"
      },
      "source": [
        "# dict.copy()\n",
        "#Returns a copy of dictionary dict\n",
        "\n",
        "dict1 = {'Name': 'Zara', 'Age': 7};\n",
        "dict2 = dict1.copy()\n",
        "print (\"New Dictinary : %s\" %  str(dict2))\n"
      ],
      "execution_count": null,
      "outputs": [
        {
          "output_type": "stream",
          "text": [
            "New Dictinary : {'Name': 'Zara', 'Age': 7}\n"
          ],
          "name": "stdout"
        }
      ]
    },
    {
      "cell_type": "code",
      "metadata": {
        "id": "m4mP-G-uUUEx",
        "colab_type": "code",
        "colab": {
          "base_uri": "https://localhost:8080/",
          "height": 50
        },
        "outputId": "64b64309-de2b-46a7-e8b0-94680ca07ded"
      },
      "source": [
        "#Python Program to Generate a Dictionary that Contains Numbers (between 1 and n) in the Form (x,x*x). \n",
        "n=int(input(\"Enter a number:\"))\n",
        "d={x:x*x for x in range(1,n+1)}\n",
        "print(d)\n"
      ],
      "execution_count": null,
      "outputs": [
        {
          "output_type": "stream",
          "text": [
            "Enter a number:9\n",
            "{1: 1, 2: 4, 3: 9, 4: 16, 5: 25, 6: 36, 7: 49, 8: 64, 9: 81}\n"
          ],
          "name": "stdout"
        }
      ]
    },
    {
      "cell_type": "code",
      "metadata": {
        "id": "4U27RMXhUUHn",
        "colab_type": "code",
        "colab": {
          "base_uri": "https://localhost:8080/",
          "height": 50
        },
        "outputId": "94130cb6-ae2a-452b-ddbb-7e6f86f587ba"
      },
      "source": [
        "#ython Program to Sum All the Items in a Dictionary \n",
        "d={'A':100,'B':540,'C':239}\n",
        "print(\"Total sum of values in the dictionary:\")\n",
        "print(sum(d.values()))\n"
      ],
      "execution_count": null,
      "outputs": [
        {
          "output_type": "stream",
          "text": [
            "Total sum of values in the dictionary:\n",
            "879\n"
          ],
          "name": "stdout"
        }
      ]
    },
    {
      "cell_type": "code",
      "metadata": {
        "id": "EYCwa3VsUUJW",
        "colab_type": "code",
        "colab": {
          "base_uri": "https://localhost:8080/",
          "height": 101
        },
        "outputId": "cb78f1af-7180-48ce-e31b-35e93cca4d4c"
      },
      "source": [
        "#Python Program to Remove the Given Key from a Dictionary \n",
        "d = {'a':1,'b':2,'c':3,'d':4}\n",
        "print(\"Initial dictionary\")\n",
        "print(d)\n",
        "key=input(\"Enter the key to delete(a-d):\")\n",
        "if key in d: \n",
        "    del d[key]\n",
        "else:\n",
        "    print(\"Key not found!\")\n",
        "    exit(0)\n",
        "print(\"Updated dictionary\")\n",
        "print(d)\n"
      ],
      "execution_count": null,
      "outputs": [
        {
          "output_type": "stream",
          "text": [
            "Initial dictionary\n",
            "{'a': 1, 'b': 2, 'c': 3, 'd': 4}\n",
            "Enter the key to delete(a-d):b\n",
            "Updated dictionary\n",
            "{'a': 1, 'c': 3, 'd': 4}\n"
          ],
          "name": "stdout"
        }
      ]
    },
    {
      "cell_type": "code",
      "metadata": {
        "id": "NgPPXsnOUUL-",
        "colab_type": "code",
        "colab": {
          "base_uri": "https://localhost:8080/",
          "height": 84
        },
        "outputId": "6a42cb87-bf95-4199-a509-0103e8664113"
      },
      "source": [
        "#Python Program to add name and mark as key->value pair in  a Dictionary and print it.\n",
        "n=int(input(\"Enter no of records\"))\n",
        "d={}\n",
        "for i in range(1,n+1):\n",
        "    name= input(\"Enter name %d\"%(i))\n",
        "    mark=int(input(\"Enter mark %d\"%(i)))\n",
        "    d[name]=mark\n",
        "    print (d)\n"
      ],
      "execution_count": null,
      "outputs": [
        {
          "output_type": "stream",
          "text": [
            "Enter no of records1\n",
            "Enter name 1bhoomika\n",
            "Enter mark 199\n",
            "{'bhoomika': 99}\n"
          ],
          "name": "stdout"
        }
      ]
    },
    {
      "cell_type": "code",
      "metadata": {
        "id": "eWtun8GWUUX9",
        "colab_type": "code",
        "colab": {}
      },
      "source": [
        "# Keys and Values example\n",
        " d={}\n",
        " print (\" The dictionary elements are\")\n",
        " for i in range(1,21):\n",
        "     d[i]=i**2\n",
        " print (d)\n",
        " # To print key and values\n",
        " print (\" Key==> Value are\")\n",
        " for (k,v) in d.items():\t\n",
        "      print(k,\"==>\",v)\n",
        " # To print key only\n",
        "  print (\"\\nTo print key only\")\n",
        "  for k in d.keys():\t\n",
        "       print(k, end=\" \")\n",
        "  #To print value only\n",
        "  print (\"\\nTo print values only\")\n",
        "  for v in d.values():\t\n",
        "      print(v, end=\" \")\n",
        "\n"
      ],
      "execution_count": null,
      "outputs": []
    },
    {
      "cell_type": "code",
      "metadata": {
        "id": "TmY5rh2tUUa2",
        "colab_type": "code",
        "colab": {
          "base_uri": "https://localhost:8080/",
          "height": 50
        },
        "outputId": "ec92b436-a056-463c-a41e-3f3d97868e29"
      },
      "source": [
        "#Python program to convert 2 digit number  into words\n",
        "\n",
        "d={0:'',1:'one',2:'two',3:'three',4:'four',5:'five',6:'six',7:'seven',8:'eight',9:'nine',\\\n",
        "   10:'ten',11:'eleven',12:'twelve',13:'thirteen',14:'fourteen',15:'fifteen',16:'sixteen',\\\n",
        "   17:'seventeen',18:'eightteen',19:'nineteen',20:'twenty',30:'thirty',40:'fourty',50:'fifty',\\\n",
        "   60:'sixty',70:'seventy',80:'eighty',90:'ninty'}\n",
        "\n",
        "num=int(input(\"Enter the integer between 1 to 99:\"))\n",
        "if (num<=20):\n",
        "      print(d[num])\n",
        "if(num>20 and num<100):\n",
        "        if num%10==0:       \n",
        "            print(d[num])\n",
        "        else:\n",
        "            print(d[num//10*10]+\" \"+d[num%10])\n"
      ],
      "execution_count": null,
      "outputs": [
        {
          "output_type": "stream",
          "text": [
            "Enter the integer between 1 to 99:99\n",
            "ninty nine\n"
          ],
          "name": "stdout"
        }
      ]
    },
    {
      "cell_type": "code",
      "metadata": {
        "id": "fxMo350-RFxV",
        "colab_type": "code",
        "colab": {
          "base_uri": "https://localhost:8080/",
          "height": 50
        },
        "outputId": "dac98982-4691-4010-b422-4a9445758552"
      },
      "source": [
        "#How to sort a dictionary by values in Python\n",
        "\n",
        "d = {\"Pierre\": 42, \"Anne\": 33, \"Zoe\": 24}\n",
        "#Use the sorted function and operator module\n",
        "import operator\n",
        "sorted_d = sorted(d.items(), key=operator.itemgetter(1))\n",
        "print(sorted_d)\n",
        "sorted_a= sorted(d.items(), key=operator.itemgetter(1),reverse=True)\n",
        "print(sorted_a)\n",
        "\n"
      ],
      "execution_count": null,
      "outputs": [
        {
          "output_type": "stream",
          "text": [
            "[('Zoe', 24), ('Anne', 33), ('Pierre', 42)]\n",
            "[('Pierre', 42), ('Anne', 33), ('Zoe', 24)]\n"
          ],
          "name": "stdout"
        }
      ]
    },
    {
      "cell_type": "code",
      "metadata": {
        "id": "tl2KrkqTV3mt",
        "colab_type": "code",
        "colab": {
          "base_uri": "https://localhost:8080/",
          "height": 202
        },
        "outputId": "850e8265-fbd3-4a97-d2c4-4533b3cd0d1f"
      },
      "source": [
        "students=[]\n",
        "for num in range(5):\n",
        "    x=input(\"Enter name of students: \")\n",
        "    students.append(x)\n",
        "\n",
        "marks=[]\n",
        "for num in range(5):\n",
        "    y=input(\"Enter marks of students:\")\n",
        "    marks.append(y)\n",
        "\n",
        "report = input(\"Do you want to print class report?: \")\n",
        "if report == 'yes':\n",
        "    print(x[0],\":\", y[0])\n",
        "    print(x[1],\":\", y[1])\n",
        "    print(x[2],\":\", y[2])\n",
        "    print(x[3],\":\", y[3])\n",
        "    print(x[4],\":\", y[4])\n"
      ],
      "execution_count": null,
      "outputs": [
        {
          "output_type": "stream",
          "text": [
            "Enter name of students: bhoo\n",
            "Enter name of students: bha\n",
            "Enter name of students: raa\n",
            "Enter name of students: mi\n",
            "Enter name of students: ra\n",
            "Enter marks of students:1\n",
            "Enter marks of students:\n",
            "Enter marks of students:2\n",
            "Enter marks of students:3\n",
            "Enter marks of students:3\n",
            "Do you want to print class report?: mi\n"
          ],
          "name": "stdout"
        }
      ]
    },
    {
      "cell_type": "code",
      "metadata": {
        "id": "PZM4te_cV3p3",
        "colab_type": "code",
        "colab": {
          "base_uri": "https://localhost:8080/",
          "height": 67
        },
        "outputId": "f7b4d717-ace9-4c13-b9ff-70338663bf5b"
      },
      "source": [
        "Employee = {\"Name\": \"John\", \"Age\": 29, \"salary\":25000,\"Company\":\"GOOGLE\"}    \n",
        "print(type(Employee))    \n",
        "print(\"printing Employee data .... \")    \n",
        "print(Employee)  "
      ],
      "execution_count": null,
      "outputs": [
        {
          "output_type": "stream",
          "text": [
            "<class 'dict'>\n",
            "printing Employee data .... \n",
            "{'Name': 'John', 'Age': 29, 'salary': 25000, 'Company': 'GOOGLE'}\n"
          ],
          "name": "stdout"
        }
      ]
    },
    {
      "cell_type": "code",
      "metadata": {
        "id": "_Xt90AXaV3s4",
        "colab_type": "code",
        "colab": {
          "base_uri": "https://localhost:8080/",
          "height": 34
        },
        "outputId": "0eed92c8-596c-4c3c-9943-23a122a07a5f"
      },
      "source": [
        "# Python3 Program to find sum of  \n",
        "# all items in a Dictionary \n",
        "  \n",
        "# Function to print sum \n",
        "def returnSum(myDict): \n",
        "      \n",
        "    sum = 0\n",
        "    for i in myDict: \n",
        "        sum = sum + myDict[i] \n",
        "      \n",
        "    return sum\n",
        "  \n",
        "# Driver Function \n",
        "dict = {'a': 100, 'b':200, 'c':300} \n",
        "print(\"Sum :\", returnSum(dict)) "
      ],
      "execution_count": null,
      "outputs": [
        {
          "output_type": "stream",
          "text": [
            "Sum : 600\n"
          ],
          "name": "stdout"
        }
      ]
    },
    {
      "cell_type": "markdown",
      "metadata": {
        "id": "h7o7CinwkuEt",
        "colab_type": "text"
      },
      "source": [
        ""
      ]
    },
    {
      "cell_type": "markdown",
      "metadata": {
        "id": "DdOHzbFdk21d",
        "colab_type": "text"
      },
      "source": [
        "# New Section"
      ]
    },
    {
      "cell_type": "markdown",
      "metadata": {
        "id": "1RiVhQk5a67w",
        "colab_type": "text"
      },
      "source": [
        "# New Section"
      ]
    },
    {
      "cell_type": "code",
      "metadata": {
        "id": "oFYsRG9BV3ym",
        "colab_type": "code",
        "colab": {
          "base_uri": "https://localhost:8080/",
          "height": 84
        },
        "outputId": "50e5f307-e94a-418c-f4dd-8fa7b1026f90"
      },
      "source": [
        "# Python Program to count the number of lines in a text file. \n",
        "from google.colab import drive\n",
        "drive.mount('/content/drive')\n",
        "#Python Program to count the number of lines in a text file. \n",
        "file = '/content/drive/My Drive/pynic day 2.txt'\n",
        "num_lines = 0\n",
        "with open(file, 'r') as f:\n",
        "   for line in f:\n",
        "     num_lines += 1\n",
        "     print(\"Number of lines:\")\n",
        "print(num_lines)\n",
        "\n"
      ],
      "execution_count": null,
      "outputs": [
        {
          "output_type": "stream",
          "text": [
            "Drive already mounted at /content/drive; to attempt to forcibly remount, call drive.mount(\"/content/drive\", force_remount=True).\n",
            "Number of lines:\n",
            "Number of lines:\n",
            "2\n"
          ],
          "name": "stdout"
        }
      ]
    },
    {
      "cell_type": "code",
      "metadata": {
        "id": "dbl0hNuNV31x",
        "colab_type": "code",
        "colab": {
          "base_uri": "https://localhost:8080/",
          "height": 84
        },
        "outputId": "8e9a585f-4ea4-4994-f4f3-76b83fb7d8f9"
      },
      "source": [
        "#Python Program to count the number of words in a text file. \n",
        " #Python Program to count the number of lines in a text file. \n",
        "file = '/content/drive/My Drive/pynic day 2.txt'\n",
        "num_words = 0\n",
        "with open(file, 'r') as f:\n",
        "   for line in f:\n",
        "     words = line.split()\n",
        "     print(words)\n",
        "num_words += len(words)\n",
        "print(\"Number of words:\")\n",
        "print(num_words)\n",
        "\n"
      ],
      "execution_count": null,
      "outputs": [
        {
          "output_type": "stream",
          "text": [
            "['bhoomika', 'is', 'good', 'girl']\n",
            "['i', 'am', 'single']\n",
            "Number of words:\n",
            "3\n"
          ],
          "name": "stdout"
        }
      ]
    },
    {
      "cell_type": "code",
      "metadata": {
        "id": "0LqeSF0amvjx",
        "colab_type": "code",
        "colab": {
          "base_uri": "https://localhost:8080/",
          "height": 134
        },
        "outputId": "0e7ea4ca-fb96-4e7e-b658-31e5a2d445c5"
      },
      "source": [
        "\n",
        "#Python Program to count the occurrences of a word in a text file.\n",
        "fname = '/content/drive/My Drive/pynic day 2.txt'\n",
        "word=input(\"Enter word to be searched:\")\n",
        "k = 1\n",
        "\n",
        "with open(fname, 'r') as f:\n",
        "    for line in f:\n",
        "      words = line.split()\n",
        "    for i in words:\n",
        "      if(i==word):\n",
        "         k=k+1\n",
        "      print(\"Occurrences of the word:\")\n",
        "      print(k)\n"
      ],
      "execution_count": null,
      "outputs": [
        {
          "output_type": "stream",
          "text": [
            "Enter word to be searched:h\n",
            "Occurrences of the word:\n",
            "1\n",
            "Occurrences of the word:\n",
            "1\n",
            "Occurrences of the word:\n",
            "1\n"
          ],
          "name": "stdout"
        }
      ]
    },
    {
      "cell_type": "code",
      "metadata": {
        "id": "i7EAR7Bbmvm3",
        "colab_type": "code",
        "colab": {}
      },
      "source": [
        "#Python Program to copy the contents of one file into another. \n",
        "file1 = '/content/drive/My Drive/pynic day 2.txt'\n",
        "file2 = '/content/drive/My Drive/panic1.txt'\n",
        "\n",
        "with open(file1,'r') as f:\n",
        "     with open(file2, \"w\") as f1:\n",
        "          for line in f:\n",
        "              f1.write(line)\n",
        "\n"
      ],
      "execution_count": null,
      "outputs": []
    },
    {
      "cell_type": "code",
      "metadata": {
        "id": "_n_Ed0j2mvp1",
        "colab_type": "code",
        "colab": {
          "base_uri": "https://localhost:8080/",
          "height": 50
        },
        "outputId": "cfc4421d-3a5e-407d-e3cb-c30d241358d5"
      },
      "source": [
        "#Python Program to read the contents of the file in reverse order.\n",
        "file = '/content/drive/My Drive/pynic day 2.txt'\n",
        "with open (file,'r') as f:\n",
        "    for line in f:\n",
        "     l=line.split()\n",
        "     l.reverse() \n",
        "     st= \" \".join(l)\n",
        "     print (st)\n",
        "\n"
      ],
      "execution_count": null,
      "outputs": [
        {
          "output_type": "stream",
          "text": [
            "girl good is bhoomika\n",
            "single am i\n"
          ],
          "name": "stdout"
        }
      ]
    },
    {
      "cell_type": "code",
      "metadata": {
        "id": "CLITxB8rmv1H",
        "colab_type": "code",
        "colab": {
          "base_uri": "https://localhost:8080/",
          "height": 34
        },
        "outputId": "cfda5050-df45-44ab-abd2-59f0f6672e94"
      },
      "source": [
        "#open file in read mode\n",
        "file = open(\"/content/drive/My Drive/pynic day 2.txt\", \"r\")\n",
        "\n",
        "#read the content of file\n",
        "data = file.read()\n",
        "\n",
        "#get the length of the data\n",
        "number_of_characters = len(data)\n",
        "\n",
        "print('Number of characters in text file :', number_of_characters)"
      ],
      "execution_count": null,
      "outputs": [
        {
          "output_type": "stream",
          "text": [
            "Number of characters in text file : 33\n"
          ],
          "name": "stdout"
        }
      ]
    },
    {
      "cell_type": "code",
      "metadata": {
        "id": "8UdP2kAdvDTk",
        "colab_type": "code",
        "colab": {
          "base_uri": "https://localhost:8080/",
          "height": 134
        },
        "outputId": "cdd49915-6f1d-438b-852a-88cc39fdd773"
      },
      "source": [
        "# Open the file in read mode \n",
        "text = open(\"/content/drive/My Drive/panic1.txt\", \"r\") \n",
        "  \n",
        "# Create an empty dictionary \n",
        "d = dict() \n",
        "  \n",
        "# Loop through each line of the file \n",
        "for line in text: \n",
        "    # Remove the leading spaces and newline character \n",
        "    line = line.strip() \n",
        "  \n",
        "    # Convert the characters in line to  \n",
        "    # lowercase to avoid case mismatch \n",
        "    line = line.lower() \n",
        "  \n",
        "    # Split the line into words \n",
        "    words = line.split(\" \") \n",
        "  \n",
        "    # Iterate over each word in line \n",
        "    for word in words: \n",
        "        # Check if the word is already in dictionary \n",
        "        if word in d: \n",
        "            # Increment count of word by 1 \n",
        "            d[word] = d[word] + 1\n",
        "        else: \n",
        "            # Add the word to dictionary with count 1 \n",
        "            d[word] = 1\n",
        "  \n",
        "# Print the contents of dictionary \n",
        "for key in list(d.keys()): \n",
        "    print(key, \":\", d[key]) "
      ],
      "execution_count": null,
      "outputs": [
        {
          "output_type": "stream",
          "text": [
            "bhoomika : 1\n",
            "is : 1\n",
            "good : 1\n",
            "girl : 1\n",
            "i : 1\n",
            "am : 1\n",
            "single : 1\n"
          ],
          "name": "stdout"
        }
      ]
    },
    {
      "cell_type": "code",
      "metadata": {
        "id": "hajG-pDovDW9",
        "colab_type": "code",
        "colab": {
          "base_uri": "https://localhost:8080/",
          "height": 185
        },
        "outputId": "1979cb82-65c0-40db-8146-eb1d9bf1a0ea"
      },
      "source": [
        "#Python Program to append the contents of one file to another file \n",
        "# Python program to illustrate \n",
        "# Append vs write mode \n",
        "file1 = open(\"/content/drive/My Drive/panic1.txt\", \"w\") \n",
        "L = [\"This is Delhi \\n\", \"This is Paris \\n\", \"This is London\"] \n",
        "file1.writelines(L) \n",
        "file1.close() \n",
        "   \n",
        "# Append-adds at last \n",
        "file1 = open(\"/content/drive/My Drive/panic1.txt\", \"a\")  # append mode \n",
        "file1.write(\"Today \\n\") \n",
        "file1.close() \n",
        "   \n",
        "file1 = open(\"/content/drive/My Drive/panic1.txt\", \"r\") \n",
        "print(\"Output of Readlines after appending\") \n",
        "print(file1.read()) \n",
        "print() \n",
        "file1.close() \n",
        "   \n",
        "# Write-Overwrites \n",
        "file1 = open(\"/content/drive/My Drive/panic1.txt\", \"w\")  # write mode \n",
        "file1.write(\"Tomorrow \\n\") \n",
        "file1.close() \n",
        "   \n",
        "file1 = open(\"/content/drive/My Drive/panic1.txt\", \"r\") \n",
        "print(\"Output of Readlines after writing\") \n",
        "print(file1.read()) \n",
        "print() \n",
        "file1.close() "
      ],
      "execution_count": null,
      "outputs": [
        {
          "output_type": "stream",
          "text": [
            "Output of Readlines after appending\n",
            "This is Delhi \n",
            "This is Paris \n",
            "This is LondonToday \n",
            "\n",
            "\n",
            "Output of Readlines after writing\n",
            "Tomorrow \n",
            "\n",
            "\n"
          ],
          "name": "stdout"
        }
      ]
    },
    {
      "cell_type": "code",
      "metadata": {
        "id": "fR94bstSx_w3",
        "colab_type": "code",
        "colab": {
          "base_uri": "https://localhost:8080/",
          "height": 67
        },
        "outputId": "89c57c30-189b-47f5-8152-16a3ec7f1b6d"
      },
      "source": [
        "fname = input(\"Enter file name: \")\n",
        "k = 0\n",
        " \n",
        "with open(fname, 'r') as f:\n",
        "    for line in f:\n",
        "        words = line.split()\n",
        "        for i in words:\n",
        "            for letter in i:\n",
        "                if(letter.isspace):\n",
        "                    k=k+1\n",
        "print(\"Occurrences of blank spaces:\")\n",
        "print(k)\n",
        "\n",
        "#4.Python Program to count the number of blank spaces in a text file. "
      ],
      "execution_count": null,
      "outputs": [
        {
          "output_type": "stream",
          "text": [
            "Enter file name: /content/drive/My Drive/panic1.txt\n",
            "Occurrences of blank spaces:\n",
            "8\n"
          ],
          "name": "stdout"
        }
      ]
    },
    {
      "cell_type": "code",
      "metadata": {
        "id": "K0klvISLx_0F",
        "colab_type": "code",
        "colab": {
          "base_uri": "https://localhost:8080/",
          "height": 50
        },
        "outputId": "349fd488-01e6-4d90-f679-7c221811fce0"
      },
      "source": [
        "def capitalize_first_last_letters(str1):\n",
        "     str1 = result = str1.title()\n",
        "     result =  \"\"\n",
        "     for word in str1.split():\n",
        "        result += word[:-1] + word[-1].upper() + \" \"\n",
        "     return result[:-1]  \n",
        "     \n",
        "print(capitalize_first_last_letters(\"python exercises session 2\"))\n",
        "print(capitalize_first_last_letters(\"bhoomi\"))"
      ],
      "execution_count": null,
      "outputs": [
        {
          "output_type": "stream",
          "text": [
            "PythoN ExerciseS SessioN 2\n",
            "BhoomI\n"
          ],
          "name": "stdout"
        }
      ]
    },
    {
      "cell_type": "code",
      "metadata": {
        "id": "PSIIbCRNzz1Z",
        "colab_type": "code",
        "colab": {
          "base_uri": "https://localhost:8080/",
          "height": 84
        },
        "outputId": "736226b3-62fb-4fae-860d-2be69a7a41a0"
      },
      "source": [
        "fname = input(\"Enter file name: \")\n",
        " \n",
        "with open(fname, 'r') as f:\n",
        "    for line in f:\n",
        "        l=line.title()\n",
        "        print(l)"
      ],
      "execution_count": null,
      "outputs": [
        {
          "output_type": "stream",
          "text": [
            "Enter file name: /content/drive/My Drive/pynic day 2.txt\n",
            "Bhoomika Is Good Girl\n",
            "\n",
            "I Am Single\n"
          ],
          "name": "stdout"
        }
      ]
    },
    {
      "cell_type": "code",
      "metadata": {
        "id": "eOzChULtz9Yg",
        "colab_type": "code",
        "colab": {}
      },
      "source": [
        ""
      ],
      "execution_count": null,
      "outputs": []
    }
  ]
}